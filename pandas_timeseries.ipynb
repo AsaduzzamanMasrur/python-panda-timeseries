{
  "nbformat": 4,
  "nbformat_minor": 0,
  "cells": [
    {
      "cell_type": "markdown",
      "source": [
        "#Timeseries with pandas"
      ],
      "metadata": {
        "id": "vOKImnjxrfve"
      }
    },
    {
      "cell_type": "markdown",
      "source": [
        "Working with time-series data is an important part of data analysis.\n",
        "\n",
        "Starting with v0.8, the _pandas_ library has included a rich API for time-series manipulations.\n",
        "\n",
        "The _pandas_ time-series API includes:\n",
        "\n",
        "- Creating date ranges\n",
        "  - From files\n",
        "  - From scratch\n",
        "- Manipulations: Shift, resample, filter\n",
        "- Field accessors (e.g., hour of day)\n",
        "- Plotting\n",
        "- Time zones (localization and conversion)\n",
        "- Dual representations (point-in-time vs interval)"
      ],
      "metadata": {
        "id": "6adcxRxUrfvg"
      }
    },
    {
      "cell_type": "code",
      "source": [
        "from datetime import datetime, date, time\n",
        "import sys\n",
        "sys.version"
      ],
      "outputs": [
        {
          "output_type": "execute_result",
          "data": {},
          "execution_count": 1
        }
      ],
      "metadata": {
        "id": "bFFriobYrfvg",
        "outputId": "a35a4fce-b828-45ca-c329-0e3843f3c70c"
      },
      "execution_count": null
    },
    {
      "cell_type": "code",
      "source": [
        "import pandas as pd\n",
        "from pandas import Series, DataFrame, Panel\n",
        "pd.__version__"
      ],
      "outputs": [
        {
          "output_type": "execute_result",
          "data": {},
          "execution_count": 2
        }
      ],
      "metadata": {
        "id": "hssgHtvwrfvi",
        "outputId": "9efb6971-e48a-44b9-e324-2b84d954815f"
      },
      "execution_count": null
    },
    {
      "cell_type": "code",
      "source": [
        "np.__version__"
      ],
      "outputs": [
        {
          "output_type": "execute_result",
          "data": {},
          "execution_count": 3
        }
      ],
      "metadata": {
        "id": "PKCa7jkFrfvi",
        "outputId": "c96ca537-6b23-48c3-c531-6e05c7f50feb"
      },
      "execution_count": null
    },
    {
      "cell_type": "code",
      "source": [
        "import matplotlib.pyplot as plt\n",
        "import matplotlib as mpl\n",
        "mpl.rc('figure', figsize=(10, 8))\n",
        "mpl.__version__"
      ],
      "outputs": [
        {
          "output_type": "execute_result",
          "data": {},
          "execution_count": 4
        }
      ],
      "metadata": {
        "id": "dAsmfv4Xrfvj",
        "outputId": "1cae22b1-e1eb-4bd8-ae6a-9259d8a14e48"
      },
      "execution_count": null
    },
    {
      "cell_type": "markdown",
      "source": [
        "###Example using tick data"
      ],
      "metadata": {
        "id": "FM-TX5Iqrfvj"
      }
    },
    {
      "cell_type": "markdown",
      "source": [
        "Sample trade ticks from 2011-11-01 to 2011-11-03 for a single security"
      ],
      "metadata": {
        "id": "jlEu41ryrfvk"
      }
    },
    {
      "cell_type": "code",
      "source": [
        "with open('data.csv', 'r') as fh:\n",
        "    print fh.readline() # headers\n",
        "    print fh.readline() # first row"
      ],
      "outputs": [
        {
          "output_type": "stream",
          "text": [
            "Date,Time,Price,Volume,Exchange Code,Sales Condition,Correction Indicator,Sequence Number,Trade Stop Indicator,Source of Trade,MDS 127 / TRF (Trade Reporting Facility) (*),Exclude Record Flag,Filtered Price\r\n",
            "\n",
            "11/01/2011,08:04:56.364,104.55,100,P,T,00,196,N,C,,,\r\n",
            "\n"
          ],
          "name": "stdout"
        }
      ],
      "metadata": {
        "id": "q1cHZ81irfvk",
        "outputId": "332ad477-99a2-4508-c26b-3d9eaf9422e4"
      },
      "execution_count": null
    },
    {
      "cell_type": "markdown",
      "source": [
        "`parse_dates`: use a list or dict for flexible (possibly multi-column) date parsing"
      ],
      "metadata": {
        "id": "x10Yhynprfvk"
      }
    },
    {
      "cell_type": "code",
      "source": [
        "data = pd.read_csv('data.csv',\n",
        "                    parse_dates={'Timestamp': ['Date', 'Time']},\n",
        "                    index_col='Timestamp')\n",
        "data"
      ],
      "outputs": [
        {
          "output_type": "execute_result",
          "data": {},
          "execution_count": 6
        }
      ],
      "metadata": {
        "id": "DhjW0qjfrfvl",
        "outputId": "5132fb50-2a2c-4858-e76f-c1e753687760"
      },
      "execution_count": null
    },
    {
      "cell_type": "code",
      "source": [
        "ticks = data.ix[:, ['Price', 'Volume']]\n",
        "ticks.head()"
      ],
      "outputs": [
        {
          "output_type": "execute_result",
          "data": {},
          "execution_count": 7
        }
      ],
      "metadata": {
        "id": "RYLwHzAgrfvl",
        "outputId": "6c1c8ade-79a6-4fe5-a777-0a8cb5881698"
      },
      "execution_count": null
    },
    {
      "cell_type": "markdown",
      "source": [
        "####`resample`: regularization and frequency conversion"
      ],
      "metadata": {
        "id": "yXUkG4ojrfvm"
      }
    },
    {
      "cell_type": "code",
      "source": [
        "bars = ticks.Price.resample('1min', how='ohlc')\n",
        "bars"
      ],
      "outputs": [
        {
          "output_type": "execute_result",
          "data": {},
          "execution_count": 8
        }
      ],
      "metadata": {
        "id": "MoG7OD6Nrfvm",
        "outputId": "66dfb9f3-89cb-47d9-eebe-5076631c97c3"
      },
      "execution_count": null
    },
    {
      "cell_type": "code",
      "source": [
        "minute_range = bars.high - bars.low\n",
        "minute_range.describe()"
      ],
      "outputs": [
        {
          "output_type": "execute_result",
          "data": {},
          "execution_count": 9
        }
      ],
      "metadata": {
        "id": "JV_1SS1Nrfvm",
        "outputId": "aaed1eac-1311-4d6a-bd43-2cb1483c3177"
      },
      "execution_count": null
    },
    {
      "cell_type": "code",
      "source": [
        "minute_return = bars.close / bars.open - 1\n",
        "minute_return.describe()"
      ],
      "outputs": [
        {
          "output_type": "execute_result",
          "data": {},
          "execution_count": 10
        }
      ],
      "metadata": {
        "id": "BcEFZFOyrfvn",
        "outputId": "917505f9-eb55-4ac6-86d1-d7ca6013c4a4"
      },
      "execution_count": null
    },
    {
      "cell_type": "markdown",
      "source": [
        "Compute a VWAP using resample"
      ],
      "metadata": {
        "id": "hH7eJBgurfvn"
      }
    },
    {
      "cell_type": "code",
      "source": [
        "volume = ticks.Volume.resample('1min', how='sum')\n",
        "value = ticks.prod(axis=1).resample('1min', how='sum')\n",
        "vwap = value / volume"
      ],
      "outputs": [],
      "metadata": {
        "id": "ONUqcfBnrfvn"
      },
      "execution_count": null
    },
    {
      "cell_type": "markdown",
      "source": [
        "####Convenient indexing for time series data"
      ],
      "metadata": {
        "id": "p_BT-lNJrfvn"
      }
    },
    {
      "cell_type": "code",
      "source": [
        "vwap.ix['2011-11-01 09:27':'2011-11-01 09:32']"
      ],
      "outputs": [
        {
          "output_type": "execute_result",
          "data": {},
          "execution_count": 12
        }
      ],
      "metadata": {
        "id": "Qp_pZrN0rfvn",
        "outputId": "89545088-b942-4e5b-92d5-5200592462c3"
      },
      "execution_count": null
    },
    {
      "cell_type": "markdown",
      "source": [
        "####`at_time`: same (b)at_time (same bat channel)"
      ],
      "metadata": {
        "id": "KWzDVXiIrfvo"
      }
    },
    {
      "cell_type": "code",
      "source": [
        "bars.open.at_time('9:30')"
      ],
      "outputs": [
        {
          "output_type": "execute_result",
          "data": {},
          "execution_count": 13
        }
      ],
      "metadata": {
        "id": "rdZJuKcwrfvo",
        "outputId": "64f66c78-18c5-415a-a9f2-ee1933e0080b"
      },
      "execution_count": null
    },
    {
      "cell_type": "code",
      "source": [
        "bars.close.at_time('16:00')"
      ],
      "outputs": [
        {
          "output_type": "execute_result",
          "data": {},
          "execution_count": 14
        }
      ],
      "metadata": {
        "id": "IHWjCiNVrfvo",
        "outputId": "0bb94c81-9f7c-4af6-b246-a2ba92cf6c4c"
      },
      "execution_count": null
    },
    {
      "cell_type": "markdown",
      "source": [
        "####`between_time`: intraday time range"
      ],
      "metadata": {
        "id": "RHnPGz2-rfvo"
      }
    },
    {
      "cell_type": "code",
      "source": [
        "filtered = vwap.between_time('10:00', '16:00')\n",
        "filtered.head(20)"
      ],
      "outputs": [
        {
          "output_type": "execute_result",
          "data": {},
          "execution_count": 15
        }
      ],
      "metadata": {
        "id": "9iL3Yxi5rfvo",
        "outputId": "273736d3-6987-4980-8a7e-f6a9669756f1"
      },
      "execution_count": null
    },
    {
      "cell_type": "code",
      "source": [
        "vol = volume.between_time('10:00', '16:00')\n",
        "vol.head(20)"
      ],
      "outputs": [
        {
          "output_type": "execute_result",
          "data": {},
          "execution_count": 16
        }
      ],
      "metadata": {
        "id": "I-EdbCi9rfvo",
        "outputId": "75ce39d1-a0cd-4e12-bea8-a177600d8b41"
      },
      "execution_count": null
    },
    {
      "cell_type": "markdown",
      "source": [
        "####`fillna`: handling missing data"
      ],
      "metadata": {
        "id": "D0nw-jNqrfvo"
      }
    },
    {
      "cell_type": "code",
      "source": [
        "filtered.ix['2011-11-03':'2011-11-04'].head(20)"
      ],
      "outputs": [
        {
          "output_type": "execute_result",
          "data": {},
          "execution_count": 17
        }
      ],
      "metadata": {
        "id": "lDyvLDCnrfvo",
        "outputId": "7592657a-033e-415f-b8f3-684595b92c8b"
      },
      "execution_count": null
    },
    {
      "cell_type": "code",
      "source": [
        "filled = filtered.fillna(method='pad', limit=1)\n",
        "filled.ix['2011-11-03':'2011-11-04'].head(20)"
      ],
      "outputs": [
        {
          "output_type": "execute_result",
          "data": {},
          "execution_count": 18
        }
      ],
      "metadata": {
        "id": "mMWJDX3vrfvo",
        "outputId": "2d7120f5-f832-4248-a9bb-383a88e0c7b9"
      },
      "execution_count": null
    },
    {
      "cell_type": "code",
      "source": [
        "vol = vol.fillna(0.)\n",
        "vol.head(20)"
      ],
      "outputs": [
        {
          "output_type": "execute_result",
          "data": {},
          "execution_count": 19
        }
      ],
      "metadata": {
        "id": "r2f9tswDrfvp",
        "outputId": "fa7f2a75-fdd3-46e0-e940-9b83d59265ac"
      },
      "execution_count": null
    },
    {
      "cell_type": "markdown",
      "source": [
        "####Simple plotting"
      ],
      "metadata": {
        "id": "aVA3rzzbrfvp"
      }
    },
    {
      "cell_type": "code",
      "source": [
        "filled.ix['2011-11-03':'2011-11-04'].plot()\n",
        "plt.ylim(103.5, 104.5)"
      ],
      "outputs": [
        {
          "output_type": "execute_result",
          "data": {},
          "execution_count": 20
        },
        {
          "output_type": "display_data",
          "data": {}
        }
      ],
      "metadata": {
        "id": "Vq3NiN1Arfvq",
        "outputId": "dee56f69-85df-4d3c-f30f-9268c8c2fffa"
      },
      "execution_count": null
    },
    {
      "cell_type": "code",
      "source": [
        "vwap.ix['2011-11-03':'2011-11-04'].plot()\n",
        "plt.ylim(103.5, 104.5)\n",
        "vol.ix['2011-11-03':'2011-11-04'].plot(secondary_y=True, style='r')"
      ],
      "outputs": [
        {
          "output_type": "execute_result",
          "data": {},
          "execution_count": 21
        },
        {
          "output_type": "display_data",
          "data": {}
        }
      ],
      "metadata": {
        "id": "R5F4olIhrfvq",
        "outputId": "0be767a1-a255-4310-ec10-7c2fab9b2c29"
      },
      "execution_count": null
    },
    {
      "cell_type": "markdown",
      "source": [
        "####Lead/lag"
      ],
      "metadata": {
        "id": "95RWX58Vrfvq"
      }
    },
    {
      "cell_type": "code",
      "source": [
        "ticks.head()"
      ],
      "outputs": [
        {
          "output_type": "execute_result",
          "data": {},
          "execution_count": 22
        }
      ],
      "metadata": {
        "id": "H6TjfZP5rfvq",
        "outputId": "82c62095-d4d5-4eb5-b000-8684146180d6"
      },
      "execution_count": null
    },
    {
      "cell_type": "markdown",
      "source": [
        "**`shift`** realigns values"
      ],
      "metadata": {
        "id": "mixoQ2Rerfvr"
      }
    },
    {
      "cell_type": "code",
      "source": [
        "ticks.shift(1).head()"
      ],
      "outputs": [
        {
          "output_type": "execute_result",
          "data": {},
          "execution_count": 23
        }
      ],
      "metadata": {
        "id": "hRUeX0qyrfvr",
        "outputId": "401a2927-bf12-4ffc-e44b-61b71b5f346a"
      },
      "execution_count": null
    },
    {
      "cell_type": "code",
      "source": [
        "ticks.shift(-1).head()"
      ],
      "outputs": [
        {
          "output_type": "execute_result",
          "data": {},
          "execution_count": 24
        }
      ],
      "metadata": {
        "id": "2i9tC484rfvr",
        "outputId": "800506dc-2b99-4955-b571-2497ab4ce7c4"
      },
      "execution_count": null
    },
    {
      "cell_type": "markdown",
      "source": [
        "**`tshift`** manipulates index values"
      ],
      "metadata": {
        "id": "-WY9dmc6rfvr"
      }
    },
    {
      "cell_type": "code",
      "source": [
        "ticks.tshift(1, 'min').head()"
      ],
      "outputs": [
        {
          "output_type": "execute_result",
          "data": {},
          "execution_count": 25
        }
      ],
      "metadata": {
        "id": "806-YMeErfvw",
        "outputId": "0fc5501c-a315-493c-e79b-ce5734da111a"
      },
      "execution_count": null
    },
    {
      "cell_type": "markdown",
      "source": [
        "####SSS: stupidly simple strategy"
      ],
      "metadata": {
        "id": "O08yrGF-rfvw"
      }
    },
    {
      "cell_type": "code",
      "source": [
        "minute_return.head()"
      ],
      "outputs": [
        {
          "output_type": "execute_result",
          "data": {},
          "execution_count": 26
        }
      ],
      "metadata": {
        "id": "RV7Z-cNirfvx",
        "outputId": "bc5d6096-8be8-4a05-b33d-cb3a14769656"
      },
      "execution_count": null
    },
    {
      "cell_type": "code",
      "source": [
        "mr = minute_return.between_time('9:30', '16:00')\n",
        "mr.head()"
      ],
      "outputs": [
        {
          "output_type": "execute_result",
          "data": {},
          "execution_count": 27
        }
      ],
      "metadata": {
        "id": "u4oyqf2Jrfvx",
        "outputId": "4184335a-aa82-4fa1-df73-d4ea3625e0f3"
      },
      "execution_count": null
    },
    {
      "cell_type": "code",
      "source": [
        "lagged = mr.shift(1)\n",
        "lagged.head()"
      ],
      "outputs": [
        {
          "output_type": "execute_result",
          "data": {},
          "execution_count": 28
        }
      ],
      "metadata": {
        "id": "nJkYqWNErfvx",
        "outputId": "c8fc457c-400a-4c3b-852a-31da240d8a3b"
      },
      "execution_count": null
    },
    {
      "cell_type": "markdown",
      "source": [
        "We shouldn't use shift here because:"
      ],
      "metadata": {
        "id": "YiZmWpOzrfvx"
      }
    },
    {
      "cell_type": "code",
      "source": [
        "lagged.at_time('9:30')"
      ],
      "outputs": [
        {
          "output_type": "execute_result",
          "data": {},
          "execution_count": 29
        }
      ],
      "metadata": {
        "id": "BaFWFvoIrfvx",
        "outputId": "117668c0-e655-44bc-952a-5aff1c84bbb4"
      },
      "execution_count": null
    },
    {
      "cell_type": "code",
      "source": [
        "mr.at_time('16:00')"
      ],
      "outputs": [
        {
          "output_type": "execute_result",
          "data": {},
          "execution_count": 30
        }
      ],
      "metadata": {
        "id": "A_o3LwDmrfvx",
        "outputId": "ca315c66-e00d-4d42-af65-bd993991714e"
      },
      "execution_count": null
    },
    {
      "cell_type": "code",
      "source": [
        "lagged = minute_return.tshift(1, 'min').between_time('9:30', '16:00')\n",
        "lagged.at_time('9:30')"
      ],
      "outputs": [
        {
          "output_type": "execute_result",
          "data": {},
          "execution_count": 31
        }
      ],
      "metadata": {
        "id": "3CJlkkunrfvx",
        "outputId": "dc20b512-2aef-4255-954e-6e8d337285de"
      },
      "execution_count": null
    },
    {
      "cell_type": "markdown",
      "source": [
        "Let's play"
      ],
      "metadata": {
        "id": "xC92zlTCrfvx"
      }
    },
    {
      "cell_type": "code",
      "source": [
        "pd.ols(y=mr, x=lagged)"
      ],
      "outputs": [
        {
          "output_type": "execute_result",
          "data": {},
          "execution_count": 32
        }
      ],
      "metadata": {
        "id": "_wGkHMlzrfvx",
        "outputId": "89c1ea83-39e8-4300-e480-6cfc1e47b592"
      },
      "execution_count": null
    },
    {
      "cell_type": "code",
      "source": [
        "mr = vwap / bars.open - 1\n",
        "mr = mr.between_time('9:30', '16:00')\n",
        "lagged = mr.tshift(1, 'min').between_time('9:30', '16:00')\n",
        "pd.ols(y=mr, x=lagged)"
      ],
      "outputs": [
        {
          "output_type": "execute_result",
          "data": {},
          "execution_count": 33
        }
      ],
      "metadata": {
        "id": "0weWVPYNrfvy",
        "outputId": "75589b46-b232-4883-86b6-6a513198e416"
      },
      "execution_count": null
    },
    {
      "cell_type": "code",
      "source": [
        "inter = mr * vol\n",
        "inter = inter.between_time('9:30', '16:00')\n",
        "lagged_inter = inter.tshift(1, 'min').between_time('9:30', '16:00')\n",
        "pd.ols(y=mr, x=lagged_inter)"
      ],
      "outputs": [
        {
          "output_type": "execute_result",
          "data": {},
          "execution_count": 34
        }
      ],
      "metadata": {
        "id": "Y_lfzLLErfvy",
        "outputId": "8147c6bc-d830-4581-8dfc-ee93308d39c0"
      },
      "execution_count": null
    },
    {
      "cell_type": "markdown",
      "source": [
        "Convert to percentage volume"
      ],
      "metadata": {
        "id": "SwZ9Uh5Lrfvy"
      }
    },
    {
      "cell_type": "code",
      "source": [
        "vol = vol.groupby(vol.index.day).transform(lambda x: x/x.sum())\n",
        "vol.head()"
      ],
      "outputs": [
        {
          "output_type": "execute_result",
          "data": {},
          "execution_count": 35
        }
      ],
      "metadata": {
        "id": "Ty7ubVTUrfvy",
        "outputId": "6e37081e-a6cd-4230-e1b7-7464996b9dde"
      },
      "execution_count": null
    },
    {
      "cell_type": "markdown",
      "source": [
        "Verify"
      ],
      "metadata": {
        "id": "eTFgqR0Rrfvy"
      }
    },
    {
      "cell_type": "code",
      "source": [
        "vol.resample('D', how='sum')"
      ],
      "outputs": [
        {
          "output_type": "execute_result",
          "data": {},
          "execution_count": 36
        }
      ],
      "metadata": {
        "id": "cU81jmFyrfvy",
        "outputId": "f59fb919-b5f3-42f4-aba0-006506e45f5c"
      },
      "execution_count": null
    },
    {
      "cell_type": "code",
      "source": [
        "inter = mr * vol\n",
        "inter = inter.between_time('9:30', '16:00')\n",
        "lagged_inter = inter.tshift(1, 'min').between_time('9:30', '16:00')\n",
        "pd.ols(y=mr, x=lagged_inter)"
      ],
      "outputs": [
        {
          "output_type": "execute_result",
          "data": {},
          "execution_count": 37
        }
      ],
      "metadata": {
        "id": "kwunGh_erfvy",
        "outputId": "27f34bf6-29bf-4b24-d4d5-fe808662754c"
      },
      "execution_count": null
    },
    {
      "cell_type": "markdown",
      "source": [
        "Vivaldi FTW"
      ],
      "metadata": {
        "id": "Y8qnfZpSrfvy"
      }
    },
    {
      "cell_type": "code",
      "source": [
        "hour = vol.index.hour\n",
        "hourly_volume = vol.groupby(hour).mean()"
      ],
      "outputs": [],
      "metadata": {
        "id": "oApOMmTHrfvy"
      },
      "execution_count": null
    },
    {
      "cell_type": "code",
      "source": [
        "hourly_volume.plot(kind='bar')"
      ],
      "outputs": [
        {
          "output_type": "execute_result",
          "data": {},
          "execution_count": 39
        },
        {
          "output_type": "display_data",
          "data": {}
        }
      ],
      "metadata": {
        "id": "zHQT5jUbrfvy",
        "outputId": "b21545e8-541b-4117-c225-cdd14c12b987"
      },
      "execution_count": null
    },
    {
      "cell_type": "markdown",
      "source": [
        "Expanding window of hourly means for volume"
      ],
      "metadata": {
        "id": "a1BB994zrfvz"
      }
    },
    {
      "cell_type": "code",
      "source": [
        "hourly = vol.resample('H')\n",
        "\n",
        "def calc_mean(hr):\n",
        "    hr = time(hour=hr)\n",
        "    data = hourly.at_time(hr)\n",
        "    return pd.expanding_mean(data)\n",
        "\n",
        "df = pd.concat([calc_mean(hr) for hr in range(10, 16)])\n",
        "df = df.sort_index()\n",
        "df"
      ],
      "outputs": [
        {
          "output_type": "execute_result",
          "data": {},
          "execution_count": 40
        }
      ],
      "metadata": {
        "id": "lN6zP-Ytrfvz",
        "outputId": "3fbd134c-102e-40e5-bddf-39b3f56b6282"
      },
      "execution_count": null
    },
    {
      "cell_type": "markdown",
      "source": [
        "Compute deviations from the hourly means"
      ],
      "metadata": {
        "id": "8wQCuXlrrfvz"
      }
    },
    {
      "cell_type": "code",
      "source": [
        "clean_vol = vol.between_time('10:00', '15:59')\n",
        "dev = clean_vol - df.reindex(clean_vol.index, method='pad') # be careful over day boundaries\n",
        "dev"
      ],
      "outputs": [
        {
          "output_type": "execute_result",
          "data": {},
          "execution_count": 41
        }
      ],
      "metadata": {
        "id": "lhX9n4bBrfvz",
        "outputId": "32dff2d9-a037-454d-ec6d-4527f34204e3"
      },
      "execution_count": null
    },
    {
      "cell_type": "code",
      "source": [
        "inter = mr * dev\n",
        "inter = inter.between_time('10:00', '15:59')\n",
        "pd.ols(y=mr, x=inter.tshift(1, 'min'))"
      ],
      "outputs": [
        {
          "output_type": "execute_result",
          "data": {},
          "execution_count": 42
        }
      ],
      "metadata": {
        "id": "5QNWnrTLrfvz",
        "outputId": "4099091b-f78e-4e70-f52b-70d536b15238"
      },
      "execution_count": null
    },
    {
      "cell_type": "markdown",
      "source": [
        "###Date range creation"
      ],
      "metadata": {
        "id": "UixAKexTrfvz"
      }
    },
    {
      "cell_type": "markdown",
      "source": [
        "`pd.date_range`"
      ],
      "metadata": {
        "id": "8t4UqNw6rfvz"
      }
    },
    {
      "cell_type": "code",
      "source": [
        "rng = pd.date_range('2005', '2012', freq='M')\n",
        "rng"
      ],
      "outputs": [
        {
          "output_type": "execute_result",
          "data": {},
          "execution_count": 43
        }
      ],
      "metadata": {
        "id": "k3brFkh-rfvz",
        "outputId": "d82bdb49-ee97-463e-9fc5-f3f1245a5462"
      },
      "execution_count": null
    },
    {
      "cell_type": "code",
      "source": [
        "pd.date_range('2005', periods=7*12, freq='M')"
      ],
      "outputs": [
        {
          "output_type": "execute_result",
          "data": {},
          "execution_count": 44
        }
      ],
      "metadata": {
        "id": "fVoK6snprfvz",
        "outputId": "44be75e6-0e32-4f7c-efae-6ecfa4464e70"
      },
      "execution_count": null
    },
    {
      "cell_type": "code",
      "source": [
        "pd.date_range(end='2012', periods=7*12, freq='M')"
      ],
      "outputs": [
        {
          "output_type": "execute_result",
          "data": {},
          "execution_count": 45
        }
      ],
      "metadata": {
        "id": "1C0XF9M2rfv0",
        "outputId": "19cb4b58-c999-4c94-d4f8-2c0a00965377"
      },
      "execution_count": null
    },
    {
      "cell_type": "markdown",
      "source": [
        "#### Frequency constants\n",
        "\n",
        "<table>\n",
        "    <tr><td>Name</td><td>Description</td></tr>\n",
        "    <tr><td>D</td><td>Calendar day</td></tr>\n",
        "    <tr><td>B</td><td>Business day</td></tr>\n",
        "    <tr><td>M</td><td>Calendar end of month</td></tr>\n",
        "    <tr><td>MS</td><td>Calendar start of month</td></tr>\n",
        "    <tr><td>BM</td><td>Business end of month</td></tr>\n",
        "    <tr><td>BMS</td><td>Business start of month</td></tr>\n",
        "    <tr><td>W-{MON, TUE,...}</td><td>Week ending on Monday, Tuesday, ...</td></tr>\n",
        "    <tr><td>Q-{JAN, FEB,...}</td><td>Quarter end with year ending January, February...</td></tr>\n",
        "    <tr><td>QS-{JAN, FEB,...}</td><td>Quarter start with year ending January, February...</td></tr>\n",
        "    <tr><td>BQ-{JAN, FEB,...}</td><td>Business quarter end with year ending January, February...</td></tr>\n",
        "    <tr><td>BQS-{JAN, FEB,...}</td><td>Business quarter start with year ending January, February...</td></tr>\n",
        "    <tr><td>A-{JAN, FEB, ...}</td><td>Year end (December)</td></tr>\n",
        "    <tr><td>AS-{JAN, FEB, ...}</td><td>Year start (December)</td></tr>    \n",
        "    <tr><td>BA-{JAN, FEB, ...}</td><td>Business year end (December)</td></tr>  \n",
        "    <tr><td>BAS-{JAN, FEB, ...}</td><td>Business year start (December)</td></tr>  \n",
        "    <tr><td>H</td><td>Hour</td></tr>\n",
        "    <tr><td>T</td><td>Minute</td></tr>\n",
        "    <tr><td>s</td><td>Second</td></tr>\n",
        "    <tr><td>L, ms</td><td>Millisecond</td></tr>\n",
        "    <tr><td>U</td><td>Microsecond</td></tr>\n",
        "</table>"
      ],
      "metadata": {
        "id": "W62xX20Crfv0"
      }
    },
    {
      "cell_type": "markdown",
      "source": [
        "Anchored offsets"
      ],
      "metadata": {
        "id": "Br1wK3zrrfv0"
      }
    },
    {
      "cell_type": "code",
      "source": [
        "pd.date_range('2005', periods=4, freq='Q')"
      ],
      "outputs": [
        {
          "output_type": "execute_result",
          "data": {},
          "execution_count": 46
        }
      ],
      "metadata": {
        "id": "6FLLfpXMrfv0",
        "outputId": "6582c3a2-f256-451e-f349-ed7111e045dd"
      },
      "execution_count": null
    },
    {
      "cell_type": "code",
      "source": [
        "pd.date_range('2005', periods=4, freq='Q-NOV')"
      ],
      "outputs": [
        {
          "output_type": "execute_result",
          "data": {},
          "execution_count": 47
        }
      ],
      "metadata": {
        "id": "i0ZxT-QHrfv0",
        "outputId": "80157346-a4bd-4644-ceb8-25c1add75e2e"
      },
      "execution_count": null
    },
    {
      "cell_type": "markdown",
      "source": [
        "Week anchor indicates end of week"
      ],
      "metadata": {
        "id": "xtouBVHzrfv0"
      }
    },
    {
      "cell_type": "code",
      "source": [
        "wkrng = pd.date_range('2012-10-25', periods=3, freq='W')\n",
        "wkrng"
      ],
      "outputs": [
        {
          "output_type": "execute_result",
          "data": {},
          "execution_count": 48
        }
      ],
      "metadata": {
        "id": "MZadtFhRrfv0",
        "outputId": "e5ba7f2b-1483-429e-ef4b-1e62439f766a"
      },
      "execution_count": null
    },
    {
      "cell_type": "code",
      "source": [
        "wkrng[0].dayofweek"
      ],
      "outputs": [
        {
          "output_type": "execute_result",
          "data": {},
          "execution_count": 49
        }
      ],
      "metadata": {
        "id": "-Mc2PYfjrfv0",
        "outputId": "98e25bda-25bd-4f7f-a12c-35d0f51b5f6e"
      },
      "execution_count": null
    },
    {
      "cell_type": "markdown",
      "source": [
        "Year anchor indicates year ending month"
      ],
      "metadata": {
        "id": "QguEhIH0rfv0"
      }
    },
    {
      "cell_type": "code",
      "source": [
        "pd.date_range('2005', periods=3, freq='A-JUN')"
      ],
      "outputs": [
        {
          "output_type": "execute_result",
          "data": {},
          "execution_count": 50
        }
      ],
      "metadata": {
        "id": "dQpS1RjUrfv0",
        "outputId": "74f389e6-f46f-41b5-8878-ae4d56acc58c"
      },
      "execution_count": null
    },
    {
      "cell_type": "markdown",
      "source": [
        "`DatetimeIndex` is a subclass of Index"
      ],
      "metadata": {
        "id": "h0vL_5_zrfv1"
      }
    },
    {
      "cell_type": "code",
      "source": [
        "isinstance(rng, pd.Index)"
      ],
      "outputs": [
        {
          "output_type": "execute_result",
          "data": {},
          "execution_count": 51
        }
      ],
      "metadata": {
        "id": "53u_-Bksrfv1",
        "outputId": "038c4741-89ef-491b-d641-177b6b073791"
      },
      "execution_count": null
    },
    {
      "cell_type": "code",
      "source": [
        "rng[2:4]"
      ],
      "outputs": [
        {
          "output_type": "execute_result",
          "data": {},
          "execution_count": 52
        }
      ],
      "metadata": {
        "id": "StGwF_xArfv1",
        "outputId": "ee893930-679b-4e17-b2af-3f39f3124987"
      },
      "execution_count": null
    },
    {
      "cell_type": "markdown",
      "source": [
        "Use it for `Series/DataFrame` labelling"
      ],
      "metadata": {
        "id": "xR8-ipVtrfv1"
      }
    },
    {
      "cell_type": "code",
      "source": [
        "s = Series(randn(len(rng)), rng)\n",
        "s.head()"
      ],
      "outputs": [
        {
          "output_type": "execute_result",
          "data": {},
          "execution_count": 53
        }
      ],
      "metadata": {
        "id": "ET78zTEkrfv1",
        "outputId": "8593f933-d3d9-4e39-8227-4b9d4752774d"
      },
      "execution_count": null
    },
    {
      "cell_type": "code",
      "source": [
        "df = DataFrame(randn(len(rng), 3), rng, ['X', 'Y', 'Z'])\n",
        "df.head()"
      ],
      "outputs": [
        {
          "output_type": "execute_result",
          "data": {},
          "execution_count": 54
        }
      ],
      "metadata": {
        "id": "GtV0nmcyrfv1",
        "outputId": "c1277345-c2d0-4291-baa8-49136db2ff1a"
      },
      "execution_count": null
    },
    {
      "cell_type": "markdown",
      "source": [
        "####Label indexing"
      ],
      "metadata": {
        "id": "GLm2klGArfv1"
      }
    },
    {
      "cell_type": "code",
      "source": [
        "s[datetime(2005, 1, 31) : datetime(2006, 12, 31)] #slice end inclusive"
      ],
      "outputs": [
        {
          "output_type": "execute_result",
          "data": {},
          "execution_count": 55
        }
      ],
      "metadata": {
        "id": "WlQy6_79rfv1",
        "outputId": "7ff20b8b-5d72-4371-8002-6ebf80df58fa"
      },
      "execution_count": null
    },
    {
      "cell_type": "code",
      "source": [
        "df['2005-1-31':'2006-12-31']"
      ],
      "outputs": [
        {
          "output_type": "execute_result",
          "data": {},
          "execution_count": 56
        }
      ],
      "metadata": {
        "id": "S2IjLA_Erfv1",
        "outputId": "e81584bf-e223-44cf-d89d-ba7d42a9aacd"
      },
      "execution_count": null
    },
    {
      "cell_type": "markdown",
      "source": [
        "**Partial indexing**"
      ],
      "metadata": {
        "id": "vCYOLv14rfv2"
      }
    },
    {
      "cell_type": "code",
      "source": [
        "s['2005':'2006']"
      ],
      "outputs": [
        {
          "output_type": "execute_result",
          "data": {},
          "execution_count": 57
        }
      ],
      "metadata": {
        "id": "Q72cte7Qrfv2",
        "outputId": "47c8c03c-4fd3-4d59-a751-ff0faba3e436"
      },
      "execution_count": null
    },
    {
      "cell_type": "markdown",
      "source": [
        "positional indexing still works"
      ],
      "metadata": {
        "id": "rlbR3e-erfv2"
      }
    },
    {
      "cell_type": "code",
      "source": [
        "df[:2] # slice end exclusive"
      ],
      "outputs": [
        {
          "output_type": "execute_result",
          "data": {},
          "execution_count": 58
        }
      ],
      "metadata": {
        "id": "QfD5rE66rfv2",
        "outputId": "a36a3e08-6854-4ae2-b3c7-13e0e35b85f6"
      },
      "execution_count": null
    },
    {
      "cell_type": "markdown",
      "source": [
        "####Elements of DatetimeIndex"
      ],
      "metadata": {
        "id": "qR01qhgarfv2"
      }
    },
    {
      "cell_type": "markdown",
      "source": [
        "Elements boxed as `Timestamp` (subclass of `datetime.datetime`)"
      ],
      "metadata": {
        "id": "swvq4DParfv2"
      }
    },
    {
      "cell_type": "code",
      "source": [
        "elm = rng[0]\n",
        "elm"
      ],
      "outputs": [
        {
          "output_type": "execute_result",
          "data": {},
          "execution_count": 59
        }
      ],
      "metadata": {
        "id": "lCKo40r0rfv2",
        "outputId": "2b4fe315-739f-4094-c782-0a8e59f9e884"
      },
      "execution_count": null
    },
    {
      "cell_type": "code",
      "source": [
        "isinstance(elm, datetime)"
      ],
      "outputs": [
        {
          "output_type": "execute_result",
          "data": {},
          "execution_count": 60
        }
      ],
      "metadata": {
        "id": "2yk0kc9yrfv2",
        "outputId": "9f326088-45bd-4f22-c24e-ec5e5b852e43"
      },
      "execution_count": null
    },
    {
      "cell_type": "markdown",
      "source": [
        "Why do we need this subclass?"
      ],
      "metadata": {
        "id": "_YP0Or8Frfv2"
      }
    },
    {
      "cell_type": "code",
      "source": [
        "elm.nanosecond"
      ],
      "outputs": [
        {
          "output_type": "execute_result",
          "data": {},
          "execution_count": 61
        }
      ],
      "metadata": {
        "id": "AKCNp6xyrfv2",
        "outputId": "99c1b0b8-074d-4a90-a6f7-0344e049d91d"
      },
      "execution_count": null
    },
    {
      "cell_type": "markdown",
      "source": [
        "Implemented internally using numpy.datetime64 (dtype='M8[ns]')"
      ],
      "metadata": {
        "id": "vTnBLC50rfv3"
      }
    },
    {
      "cell_type": "code",
      "source": [
        "val = rng.values"
      ],
      "outputs": [],
      "metadata": {
        "id": "zyiTj8g4rfv3"
      },
      "execution_count": null
    },
    {
      "cell_type": "code",
      "source": [
        "type(val)"
      ],
      "outputs": [
        {
          "output_type": "execute_result",
          "data": {},
          "execution_count": 63
        }
      ],
      "metadata": {
        "id": "DB7aZ1NOrfv3",
        "outputId": "ec3296f2-8596-4d54-b30e-031524b623c9"
      },
      "execution_count": null
    },
    {
      "cell_type": "code",
      "source": [
        "val.dtype"
      ],
      "outputs": [
        {
          "output_type": "execute_result",
          "data": {},
          "execution_count": 64
        }
      ],
      "metadata": {
        "id": "bMsZHsLarfv3",
        "outputId": "16bf5410-11dc-457d-abc8-2b1a1b317e3f"
      },
      "execution_count": null
    },
    {
      "cell_type": "markdown",
      "source": [
        "Upgrade Numpy to 1.7b to fix repr issue"
      ],
      "metadata": {
        "id": "NRSKYAOerfv3"
      }
    },
    {
      "cell_type": "code",
      "source": [
        "val[0]"
      ],
      "outputs": [
        {
          "output_type": "execute_result",
          "data": {},
          "execution_count": 65
        }
      ],
      "metadata": {
        "id": "vYrA7ubUrfv3",
        "outputId": "25cb0b01-eadd-436c-fe86-69b16f1605a5"
      },
      "execution_count": null
    },
    {
      "cell_type": "markdown",
      "source": [
        "Or use DatetimeIndex.asobject for workaround"
      ],
      "metadata": {
        "id": "8CqArBGnrfv3"
      }
    },
    {
      "cell_type": "code",
      "source": [
        "rng.asobject.values[0]"
      ],
      "outputs": [
        {
          "output_type": "execute_result",
          "data": {},
          "execution_count": 66
        }
      ],
      "metadata": {
        "id": "9hm2oDdTrfv3",
        "outputId": "51608b14-44cf-45e2-b7ca-9a9508b7de9f"
      },
      "execution_count": null
    },
    {
      "cell_type": "markdown",
      "source": [
        "#### Other views"
      ],
      "metadata": {
        "id": "fhxE_A7Trfv3"
      }
    },
    {
      "cell_type": "code",
      "source": [
        "rng.asobject"
      ],
      "outputs": [
        {
          "output_type": "execute_result",
          "data": {},
          "execution_count": 67
        }
      ],
      "metadata": {
        "id": "_KvBawQYrfv3",
        "outputId": "91386dcd-16f1-4c57-dc45-de20cbc7e3b8"
      },
      "execution_count": null
    },
    {
      "cell_type": "code",
      "source": [
        "rng.to_pydatetime()"
      ],
      "outputs": [
        {
          "output_type": "execute_result",
          "data": {},
          "execution_count": 68
        }
      ],
      "metadata": {
        "id": "BEODp7TPrfv4",
        "outputId": "d1c3a0ac-7193-4108-f379-6aeac69d7d72"
      },
      "execution_count": null
    },
    {
      "cell_type": "code",
      "source": [
        "rng.to_pydatetime()[0]"
      ],
      "outputs": [
        {
          "output_type": "execute_result",
          "data": {},
          "execution_count": 69
        }
      ],
      "metadata": {
        "id": "Ov3iwCynrfv4",
        "outputId": "9c7f4d0e-3653-4583-ca23-297dfd2cadd9"
      },
      "execution_count": null
    },
    {
      "cell_type": "markdown",
      "source": [
        "Integer representation"
      ],
      "metadata": {
        "id": "4fbhEaejrfv4"
      }
    },
    {
      "cell_type": "code",
      "source": [
        "type(rng.asi8)"
      ],
      "outputs": [
        {
          "output_type": "execute_result",
          "data": {},
          "execution_count": 70
        }
      ],
      "metadata": {
        "id": "JrC2gvPSrfv4",
        "outputId": "5a6fc04f-fa16-4661-c082-7d10cf3d852a"
      },
      "execution_count": null
    },
    {
      "cell_type": "code",
      "source": [
        "rng.asi8.dtype"
      ],
      "outputs": [
        {
          "output_type": "execute_result",
          "data": {},
          "execution_count": 71
        }
      ],
      "metadata": {
        "id": "GK4Lls1brfv4",
        "outputId": "65550c25-b546-4158-bd60-66c95e428928"
      },
      "execution_count": null
    },
    {
      "cell_type": "code",
      "source": [
        "rng.asi8[0]"
      ],
      "outputs": [
        {
          "output_type": "execute_result",
          "data": {},
          "execution_count": 72
        }
      ],
      "metadata": {
        "id": "43p8wmLarfv4",
        "outputId": "e91d4451-36de-4fa3-c62a-8e1dc2518696"
      },
      "execution_count": null
    },
    {
      "cell_type": "markdown",
      "source": [
        "###More fun with resampling and asfreq"
      ],
      "metadata": {
        "id": "MZhvk-uGrfv4"
      }
    },
    {
      "cell_type": "code",
      "source": [
        "s.index.freqstr"
      ],
      "outputs": [
        {
          "output_type": "execute_result",
          "data": {},
          "execution_count": 73
        }
      ],
      "metadata": {
        "id": "Aohp3sgorfv4",
        "outputId": "4f4c3d8e-36a2-4453-a920-3109eee6e0c0"
      },
      "execution_count": null
    },
    {
      "cell_type": "code",
      "source": [
        "s.resample('30D').head(10)"
      ],
      "outputs": [
        {
          "output_type": "execute_result",
          "data": {},
          "execution_count": 74
        }
      ],
      "metadata": {
        "id": "T2btU4Worfv4",
        "outputId": "d763e0b7-da4f-4896-8950-3e3fb7ae2342"
      },
      "execution_count": null
    },
    {
      "cell_type": "code",
      "source": [
        "s.resample('30D', fill_method='ffill').head(10)"
      ],
      "outputs": [
        {
          "output_type": "execute_result",
          "data": {},
          "execution_count": 75
        }
      ],
      "metadata": {
        "id": "XbR6nLe_rfv4",
        "outputId": "b994b1d5-710e-49dd-b1c0-0f0aae58976f"
      },
      "execution_count": null
    },
    {
      "cell_type": "markdown",
      "source": [
        "Upsampling"
      ],
      "metadata": {
        "id": "XOihkL18rfv5"
      }
    },
    {
      "cell_type": "code",
      "source": [
        "s.ix[:3].resample('W')"
      ],
      "outputs": [
        {
          "output_type": "execute_result",
          "data": {},
          "execution_count": 76
        }
      ],
      "metadata": {
        "id": "WB2MZ17crfv5",
        "outputId": "f09b0497-ab8c-4edb-d6d5-7a3d3b06f593"
      },
      "execution_count": null
    },
    {
      "cell_type": "code",
      "source": [
        "s.ix[:3].resample('W', fill_method='ffill')"
      ],
      "outputs": [
        {
          "output_type": "execute_result",
          "data": {},
          "execution_count": 77
        }
      ],
      "metadata": {
        "id": "NPFhH-XQrfv5",
        "outputId": "58d4dfdb-c558-451b-e8f9-c4134463664f"
      },
      "execution_count": null
    },
    {
      "cell_type": "markdown",
      "source": [
        "asfreq"
      ],
      "metadata": {
        "id": "wqLLONgyrfv5"
      }
    },
    {
      "cell_type": "code",
      "source": [
        "s.asfreq('Q').head()"
      ],
      "outputs": [
        {
          "output_type": "execute_result",
          "data": {},
          "execution_count": 78
        }
      ],
      "metadata": {
        "id": "xJVQahvLrfv5",
        "outputId": "5e6441c3-5156-4226-f7e4-8e7be7acf0c9"
      },
      "execution_count": null
    },
    {
      "cell_type": "code",
      "source": [
        "s.resample('Q', 'last').head()"
      ],
      "outputs": [
        {
          "output_type": "execute_result",
          "data": {},
          "execution_count": 79
        }
      ],
      "metadata": {
        "id": "UQP_19uHrfv5",
        "outputId": "3c165a42-84a7-46b2-a58f-7b942905f183"
      },
      "execution_count": null
    },
    {
      "cell_type": "markdown",
      "source": [
        "closed: 'left' or 'right' bin edge is closed (default is 'right')"
      ],
      "metadata": {
        "id": "hDXRervhrfv5"
      }
    },
    {
      "cell_type": "code",
      "source": [
        "s.resample('Q').head()"
      ],
      "outputs": [
        {
          "output_type": "execute_result",
          "data": {},
          "execution_count": 80
        }
      ],
      "metadata": {
        "id": "57wRlc71rfv5",
        "outputId": "98e2a26d-1dd2-45b7-d10a-5fd3660b7fcc"
      },
      "execution_count": null
    },
    {
      "cell_type": "code",
      "source": [
        "s.ix[3:6].mean()"
      ],
      "outputs": [
        {
          "output_type": "execute_result",
          "data": {},
          "execution_count": 81
        }
      ],
      "metadata": {
        "id": "ds9IpO-Wrfv5",
        "outputId": "933cfb71-938b-42b3-8a1d-dbce8c5a5ca7"
      },
      "execution_count": null
    },
    {
      "cell_type": "code",
      "source": [
        "s.resample('Q', closed='left').head()"
      ],
      "outputs": [
        {
          "output_type": "execute_result",
          "data": {},
          "execution_count": 82
        }
      ],
      "metadata": {
        "id": "RcrOzYeMrfv5",
        "outputId": "7a00fa83-7146-452b-dd5b-807e31e132ae"
      },
      "execution_count": null
    },
    {
      "cell_type": "code",
      "source": [
        "s.ix[2:5].mean()"
      ],
      "outputs": [
        {
          "output_type": "execute_result",
          "data": {},
          "execution_count": 83
        }
      ],
      "metadata": {
        "id": "iWer5xxyrfv5",
        "outputId": "ec272cdf-3f4f-44b9-f34e-8af1be8f55bc"
      },
      "execution_count": null
    },
    {
      "cell_type": "markdown",
      "source": [
        "label: label the bin with 'left' or 'right' edge (default is 'right')"
      ],
      "metadata": {
        "id": "CpOI87Z0rfv6"
      }
    },
    {
      "cell_type": "code",
      "source": [
        "s.resample('Q').head()"
      ],
      "outputs": [
        {
          "output_type": "execute_result",
          "data": {},
          "execution_count": 84
        }
      ],
      "metadata": {
        "id": "EgGIouC1rfv6",
        "outputId": "8fcda25c-28f8-40e4-e089-a48f6366e847"
      },
      "execution_count": null
    },
    {
      "cell_type": "code",
      "source": [
        "s.resample('Q', label='left').head()"
      ],
      "outputs": [
        {
          "output_type": "execute_result",
          "data": {},
          "execution_count": 85
        }
      ],
      "metadata": {
        "id": "8pUpd1nLrfv6",
        "outputId": "e09e6844-481d-4dae-d852-a93ff896d9d6"
      },
      "execution_count": null
    },
    {
      "cell_type": "markdown",
      "source": [
        "loffset: shift the result index"
      ],
      "metadata": {
        "id": "QFQ6dZ21rfv6"
      }
    },
    {
      "cell_type": "code",
      "source": [
        "s.resample('Q', label='left', loffset='-1D').head()"
      ],
      "outputs": [
        {
          "output_type": "execute_result",
          "data": {},
          "execution_count": 86
        }
      ],
      "metadata": {
        "id": "MFgVRT1nrfv6",
        "outputId": "8b890d12-0b46-4c60-b058-767af960b55d"
      },
      "execution_count": null
    },
    {
      "cell_type": "markdown",
      "source": [
        "###Time zones"
      ],
      "metadata": {
        "id": "f_F4WJ71rfv6"
      }
    },
    {
      "cell_type": "markdown",
      "source": [
        "####Localization"
      ],
      "metadata": {
        "id": "yoaaGYiIrfv6"
      }
    },
    {
      "cell_type": "code",
      "source": [
        "rng.tz"
      ],
      "outputs": [],
      "metadata": {
        "id": "X8oTkFe5rfv6"
      },
      "execution_count": null
    },
    {
      "cell_type": "code",
      "source": [
        "d = rng[0]\n",
        "d"
      ],
      "outputs": [
        {
          "output_type": "execute_result",
          "data": {},
          "execution_count": 88
        }
      ],
      "metadata": {
        "id": "YN4izIU6rfv6",
        "outputId": "61f05fb0-d416-4849-ca27-1b1b36267818"
      },
      "execution_count": null
    },
    {
      "cell_type": "code",
      "source": [
        "d.tz"
      ],
      "outputs": [],
      "metadata": {
        "id": "1sTKL49trfv6"
      },
      "execution_count": null
    },
    {
      "cell_type": "code",
      "source": [
        "localized = rng.tz_localize('US/Eastern')"
      ],
      "outputs": [],
      "metadata": {
        "id": "ptDl0MoLrfv7"
      },
      "execution_count": null
    },
    {
      "cell_type": "markdown",
      "source": [
        "Localization assumes naive time is local (and not UTC)"
      ],
      "metadata": {
        "id": "ufhwBuj_rfv7"
      }
    },
    {
      "cell_type": "code",
      "source": [
        "localized[0]"
      ],
      "outputs": [
        {
          "output_type": "execute_result",
          "data": {},
          "execution_count": 91
        }
      ],
      "metadata": {
        "id": "hffGsJyUrfv7",
        "outputId": "100bf2db-fb66-44a1-ac97-2a0ba34b957e"
      },
      "execution_count": null
    },
    {
      "cell_type": "code",
      "source": [
        "localized.asi8[0]"
      ],
      "outputs": [
        {
          "output_type": "execute_result",
          "data": {},
          "execution_count": 92
        }
      ],
      "metadata": {
        "id": "prhYR3yrrfv7",
        "outputId": "2ffc85fb-00fa-45c6-c71e-476de86d8889"
      },
      "execution_count": null
    },
    {
      "cell_type": "code",
      "source": [
        "rng.asi8[0]"
      ],
      "outputs": [
        {
          "output_type": "execute_result",
          "data": {},
          "execution_count": 93
        }
      ],
      "metadata": {
        "id": "xCfgSce4rfv7",
        "outputId": "bf933cc5-8072-4f90-9da2-ed0b729ae6e9"
      },
      "execution_count": null
    },
    {
      "cell_type": "code",
      "source": [
        "d_utc = d.tz_localize('UTC')\n",
        "d_utc"
      ],
      "outputs": [
        {
          "output_type": "execute_result",
          "data": {},
          "execution_count": 94
        }
      ],
      "metadata": {
        "id": "oMcZ6C1srfv7",
        "outputId": "3c8defab-433f-45bb-cd87-46ff3da40533"
      },
      "execution_count": null
    },
    {
      "cell_type": "code",
      "source": [
        "d_utc.tz_localize('US/Eastern')"
      ],
      "outputs": [
        {
          "output_type": "error",
          "ename": "Exception",
          "evalue": "Cannot localize tz-aware Timestamp, use tz_convert for conversions",
          "traceback": [
            "\u001b[0;31m---------------------------------------------------------------------------\u001b[0m\n\u001b[0;31mException\u001b[0m                                 Traceback (most recent call last)",
            "\u001b[0;32m<ipython-input-95-5747806c09b7>\u001b[0m in \u001b[0;36m<module>\u001b[0;34m()\u001b[0m\n\u001b[0;32m----> 1\u001b[0;31m \u001b[0md_utc\u001b[0m\u001b[0;34m.\u001b[0m\u001b[0mtz_localize\u001b[0m\u001b[0;34m(\u001b[0m\u001b[0;34m'US/Eastern'\u001b[0m\u001b[0;34m)\u001b[0m\u001b[0;34m\u001b[0m\u001b[0m\n\u001b[0m",
            "\u001b[0;32m/Users/changshe/code/pandas/pandas/lib.so\u001b[0m in \u001b[0;36mpandas.lib.Timestamp.tz_localize (pandas/src/tseries.c:32388)\u001b[0;34m()\u001b[0m\n",
            "\u001b[0;31mException\u001b[0m: Cannot localize tz-aware Timestamp, use tz_convert for conversions"
          ]
        }
      ],
      "metadata": {
        "id": "Yfb2r8ITrfv7",
        "outputId": "04118e4e-796c-4648-d6f0-b4574f32fafb"
      },
      "execution_count": null
    },
    {
      "cell_type": "markdown",
      "source": [
        "####TZ conversions"
      ],
      "metadata": {
        "id": "ywSLu1S4rfv7"
      }
    },
    {
      "cell_type": "code",
      "source": [
        "localized.tz_convert('UTC')"
      ],
      "outputs": [
        {
          "output_type": "execute_result",
          "data": {},
          "execution_count": 96
        }
      ],
      "metadata": {
        "id": "Lq03cx-Hrfv7",
        "outputId": "ab1be2e5-fd5c-41c1-a66c-23629d078900"
      },
      "execution_count": null
    },
    {
      "cell_type": "code",
      "source": [
        "d_ny = d_utc.tz_convert('US/Eastern')\n",
        "d_ny"
      ],
      "outputs": [
        {
          "output_type": "execute_result",
          "data": {},
          "execution_count": 97
        }
      ],
      "metadata": {
        "id": "EfaYprYwrfv8",
        "outputId": "2ffcc450-3f15-44d4-b734-80ec2178c524"
      },
      "execution_count": null
    },
    {
      "cell_type": "code",
      "source": [
        "rng.tz_convert('US/Eastern')"
      ],
      "outputs": [
        {
          "output_type": "error",
          "ename": "Exception",
          "evalue": "Cannot convert tz-naive timestamps, use tz_localize to localize",
          "traceback": [
            "\u001b[0;31m---------------------------------------------------------------------------\u001b[0m\n\u001b[0;31mException\u001b[0m                                 Traceback (most recent call last)",
            "\u001b[0;32m<ipython-input-98-ce1650e7ae36>\u001b[0m in \u001b[0;36m<module>\u001b[0;34m()\u001b[0m\n\u001b[0;32m----> 1\u001b[0;31m \u001b[0mrng\u001b[0m\u001b[0;34m.\u001b[0m\u001b[0mtz_convert\u001b[0m\u001b[0;34m(\u001b[0m\u001b[0;34m'US/Eastern'\u001b[0m\u001b[0;34m)\u001b[0m\u001b[0;34m\u001b[0m\u001b[0m\n\u001b[0m",
            "\u001b[0;32m/Users/changshe/code/pandas/pandas/tseries/index.pyc\u001b[0m in \u001b[0;36mtz_convert\u001b[0;34m(self, tz)\u001b[0m\n\u001b[1;32m   1275\u001b[0m         \u001b[0;32mif\u001b[0m \u001b[0mself\u001b[0m\u001b[0;34m.\u001b[0m\u001b[0mtz\u001b[0m \u001b[0;32mis\u001b[0m \u001b[0mNone\u001b[0m\u001b[0;34m:\u001b[0m\u001b[0;34m\u001b[0m\u001b[0m\n\u001b[1;32m   1276\u001b[0m             \u001b[0;31m# tz naive, use tz_localize\u001b[0m\u001b[0;34m\u001b[0m\u001b[0;34m\u001b[0m\u001b[0m\n\u001b[0;32m-> 1277\u001b[0;31m             raise Exception('Cannot convert tz-naive timestamps, use '\n\u001b[0m\u001b[1;32m   1278\u001b[0m                             'tz_localize to localize')\n\u001b[1;32m   1279\u001b[0m \u001b[0;34m\u001b[0m\u001b[0m\n",
            "\u001b[0;31mException\u001b[0m: Cannot convert tz-naive timestamps, use tz_localize to localize"
          ]
        }
      ],
      "metadata": {
        "id": "pM4YNWo-rfv8",
        "outputId": "3c9cc96f-db6e-4b90-bc13-55d6dfb3565f"
      },
      "execution_count": null
    },
    {
      "cell_type": "markdown",
      "source": [
        "### Period representation"
      ],
      "metadata": {
        "id": "OJkFaFe2rfv8"
      }
    },
    {
      "cell_type": "markdown",
      "source": [
        "A lot of time series data is better represented as intervals of time rather than points in time.\n",
        "\n",
        "This is represented in _pandas_ as Period and PeriodIndex"
      ],
      "metadata": {
        "id": "3uVpyEsmrfv8"
      }
    },
    {
      "cell_type": "markdown",
      "source": [
        "####Creating periods"
      ],
      "metadata": {
        "id": "9MvzRC1Grfv8"
      }
    },
    {
      "cell_type": "code",
      "source": [
        "p = pd.Period('2005', 'A')\n",
        "p"
      ],
      "outputs": [
        {
          "output_type": "execute_result",
          "data": {},
          "execution_count": 99
        }
      ],
      "metadata": {
        "id": "Y_Ac2sgYrfv8",
        "outputId": "0b372e03-333f-4acb-911e-567eacfd12e1"
      },
      "execution_count": null
    },
    {
      "cell_type": "code",
      "source": [
        "pd.Period('2006Q1', 'Q-MAR')"
      ],
      "outputs": [
        {
          "output_type": "execute_result",
          "data": {},
          "execution_count": 100
        }
      ],
      "metadata": {
        "id": "ieX4PW9grfv8",
        "outputId": "01355d73-2887-4122-882d-fc0075469c88"
      },
      "execution_count": null
    },
    {
      "cell_type": "code",
      "source": [
        "pd.Period('2007-1-1', 'B')"
      ],
      "outputs": [
        {
          "output_type": "execute_result",
          "data": {},
          "execution_count": 101
        }
      ],
      "metadata": {
        "id": "rSnJfDkHrfv8",
        "outputId": "236624e1-1a11-4f69-af64-19f2666f757f"
      },
      "execution_count": null
    },
    {
      "cell_type": "markdown",
      "source": [
        "No xxx-start frequencies"
      ],
      "metadata": {
        "id": "gLNlQFBgrfv8"
      }
    },
    {
      "cell_type": "code",
      "source": [
        "pd.Period('2005', 'AS')"
      ],
      "outputs": [
        {
          "output_type": "error",
          "ename": "KeyError",
          "evalue": "'AS-JAN'",
          "traceback": [
            "\u001b[0;31m---------------------------------------------------------------------------\u001b[0m\n\u001b[0;31mKeyError\u001b[0m                                  Traceback (most recent call last)",
            "\u001b[0;32m<ipython-input-102-fafe81610ca8>\u001b[0m in \u001b[0;36m<module>\u001b[0;34m()\u001b[0m\n\u001b[0;32m----> 1\u001b[0;31m \u001b[0mpd\u001b[0m\u001b[0;34m.\u001b[0m\u001b[0mPeriod\u001b[0m\u001b[0;34m(\u001b[0m\u001b[0;34m'2005'\u001b[0m\u001b[0;34m,\u001b[0m \u001b[0;34m'AS'\u001b[0m\u001b[0;34m)\u001b[0m\u001b[0;34m\u001b[0m\u001b[0m\n\u001b[0m",
            "\u001b[0;32m/Users/changshe/code/pandas/pandas/tseries/period.pyc\u001b[0m in \u001b[0;36m__init__\u001b[0;34m(self, value, freq, ordinal, year, month, quarter, day, hour, minute, second)\u001b[0m\n\u001b[1;32m    114\u001b[0m             \u001b[0;32mraise\u001b[0m \u001b[0mValueError\u001b[0m\u001b[0;34m(\u001b[0m\u001b[0mmsg\u001b[0m\u001b[0;34m)\u001b[0m\u001b[0;34m\u001b[0m\u001b[0m\n\u001b[1;32m    115\u001b[0m \u001b[0;34m\u001b[0m\u001b[0m\n\u001b[0;32m--> 116\u001b[0;31m         \u001b[0mbase\u001b[0m\u001b[0;34m,\u001b[0m \u001b[0mmult\u001b[0m \u001b[0;34m=\u001b[0m \u001b[0m_gfc\u001b[0m\u001b[0;34m(\u001b[0m\u001b[0mfreq\u001b[0m\u001b[0;34m)\u001b[0m\u001b[0;34m\u001b[0m\u001b[0m\n\u001b[0m\u001b[1;32m    117\u001b[0m         \u001b[0;32mif\u001b[0m \u001b[0mmult\u001b[0m \u001b[0;34m!=\u001b[0m \u001b[0;36m1\u001b[0m\u001b[0;34m:\u001b[0m\u001b[0;34m\u001b[0m\u001b[0m\n\u001b[1;32m    118\u001b[0m             \u001b[0;32mraise\u001b[0m \u001b[0mValueError\u001b[0m\u001b[0;34m(\u001b[0m\u001b[0;34m'Only mult == 1 supported'\u001b[0m\u001b[0;34m)\u001b[0m\u001b[0;34m\u001b[0m\u001b[0m\n",
            "\u001b[0;32m/Users/changshe/code/pandas/pandas/tseries/frequencies.pyc\u001b[0m in \u001b[0;36mget_freq_code\u001b[0;34m(freqstr)\u001b[0m\n\u001b[1;32m     71\u001b[0m \u001b[0;34m\u001b[0m\u001b[0m\n\u001b[1;32m     72\u001b[0m     \u001b[0mbase\u001b[0m\u001b[0;34m,\u001b[0m \u001b[0mstride\u001b[0m \u001b[0;34m=\u001b[0m \u001b[0m_base_and_stride\u001b[0m\u001b[0;34m(\u001b[0m\u001b[0mfreqstr\u001b[0m\u001b[0;34m)\u001b[0m\u001b[0;34m\u001b[0m\u001b[0m\n\u001b[0;32m---> 73\u001b[0;31m     \u001b[0mcode\u001b[0m \u001b[0;34m=\u001b[0m \u001b[0m_period_str_to_code\u001b[0m\u001b[0;34m(\u001b[0m\u001b[0mbase\u001b[0m\u001b[0;34m)\u001b[0m\u001b[0;34m\u001b[0m\u001b[0m\n\u001b[0m\u001b[1;32m     74\u001b[0m \u001b[0;34m\u001b[0m\u001b[0m\n\u001b[1;32m     75\u001b[0m     \u001b[0;32mreturn\u001b[0m \u001b[0mcode\u001b[0m\u001b[0;34m,\u001b[0m \u001b[0mstride\u001b[0m\u001b[0;34m\u001b[0m\u001b[0m\n",
            "\u001b[0;32m/Users/changshe/code/pandas/pandas/tseries/frequencies.pyc\u001b[0m in \u001b[0;36m_period_str_to_code\u001b[0;34m(freqstr)\u001b[0m\n\u001b[1;32m    694\u001b[0m         \u001b[0;32mreturn\u001b[0m \u001b[0m_period_code_map\u001b[0m\u001b[0;34m[\u001b[0m\u001b[0mfreqstr\u001b[0m\u001b[0;34m]\u001b[0m\u001b[0;34m\u001b[0m\u001b[0m\n\u001b[1;32m    695\u001b[0m     \u001b[0;32mexcept\u001b[0m\u001b[0;34m:\u001b[0m\u001b[0;34m\u001b[0m\u001b[0m\n\u001b[0;32m--> 696\u001b[0;31m         \u001b[0malias\u001b[0m \u001b[0;34m=\u001b[0m \u001b[0m_period_alias_dict\u001b[0m\u001b[0;34m[\u001b[0m\u001b[0mfreqstr\u001b[0m\u001b[0;34m]\u001b[0m\u001b[0;34m\u001b[0m\u001b[0m\n\u001b[0m\u001b[1;32m    697\u001b[0m         \u001b[0;32mreturn\u001b[0m \u001b[0m_period_code_map\u001b[0m\u001b[0;34m[\u001b[0m\u001b[0malias\u001b[0m\u001b[0;34m]\u001b[0m\u001b[0;34m\u001b[0m\u001b[0m\n\u001b[1;32m    698\u001b[0m \u001b[0;34m\u001b[0m\u001b[0m\n",
            "\u001b[0;31mKeyError\u001b[0m: 'AS-JAN'"
          ]
        }
      ],
      "metadata": {
        "id": "pCcaQuBhrfv8",
        "outputId": "504e1b0e-74b8-4ee1-f378-800bd56e3c1c"
      },
      "execution_count": null
    },
    {
      "cell_type": "markdown",
      "source": [
        "####PeriodRange"
      ],
      "metadata": {
        "id": "wuVeKjU1rfv8"
      }
    },
    {
      "cell_type": "code",
      "source": [
        "pd.period_range('2005', '2012', freq='A')"
      ],
      "outputs": [
        {
          "output_type": "execute_result",
          "data": {},
          "execution_count": 103
        }
      ],
      "metadata": {
        "id": "gFIz09-2rfv8",
        "outputId": "d9727dd8-02a0-4672-f5e1-4376af434d38"
      },
      "execution_count": null
    },
    {
      "cell_type": "code",
      "source": [
        "prng = pd.period_range('2005', periods=7, freq='A')\n",
        "prng"
      ],
      "outputs": [
        {
          "output_type": "execute_result",
          "data": {},
          "execution_count": 104
        }
      ],
      "metadata": {
        "id": "efJUAy3vrfv9",
        "outputId": "2ff050dd-ee5e-4fdc-9793-1928da98a476"
      },
      "execution_count": null
    },
    {
      "cell_type": "markdown",
      "source": [
        "####Converting between representations"
      ],
      "metadata": {
        "id": "td7ACqhPrfv9"
      }
    },
    {
      "cell_type": "code",
      "source": [
        "p"
      ],
      "outputs": [
        {
          "output_type": "execute_result",
          "data": {},
          "execution_count": 105
        }
      ],
      "metadata": {
        "id": "nbk7jBisrfv9",
        "outputId": "650b366b-f79b-4cef-9da2-aa3d2bb7a5f4"
      },
      "execution_count": null
    },
    {
      "cell_type": "code",
      "source": [
        "p.to_timestamp()"
      ],
      "outputs": [
        {
          "output_type": "execute_result",
          "data": {},
          "execution_count": 106
        }
      ],
      "metadata": {
        "id": "AZMyxRjzrfv9",
        "outputId": "e7370863-0538-426b-9497-c022285337d0"
      },
      "execution_count": null
    },
    {
      "cell_type": "code",
      "source": [
        "p.to_timestamp('M', 's')"
      ],
      "outputs": [
        {
          "output_type": "execute_result",
          "data": {},
          "execution_count": 107
        }
      ],
      "metadata": {
        "id": "tXymXvDcrfv9",
        "outputId": "c2aeefac-62c3-435e-d9a6-4551158a2af3"
      },
      "execution_count": null
    },
    {
      "cell_type": "code",
      "source": [
        "p.to_timestamp('M', 'e')"
      ],
      "outputs": [
        {
          "output_type": "execute_result",
          "data": {},
          "execution_count": 108
        }
      ],
      "metadata": {
        "id": "ZkrUCo96rfv9",
        "outputId": "1dc11605-bec7-4eb2-b5ae-c6ac1292c4cd"
      },
      "execution_count": null
    },
    {
      "cell_type": "code",
      "source": [
        "prng.to_timestamp(how='e')"
      ],
      "outputs": [
        {
          "output_type": "execute_result",
          "data": {},
          "execution_count": 109
        }
      ],
      "metadata": {
        "id": "qVl-fTJ_rfv9",
        "outputId": "ab5f2c88-4921-400a-8a85-ed3c823a370e"
      },
      "execution_count": null
    },
    {
      "cell_type": "code",
      "source": [
        "prng.to_timestamp('M', 'e')"
      ],
      "outputs": [
        {
          "output_type": "execute_result",
          "data": {},
          "execution_count": 110
        }
      ],
      "metadata": {
        "id": "yTcrNxeErfv9",
        "outputId": "362dc2c5-d2ba-46ac-82b5-21441a95d590"
      },
      "execution_count": null
    },
    {
      "cell_type": "code",
      "source": [
        "rng"
      ],
      "outputs": [
        {
          "output_type": "execute_result",
          "data": {},
          "execution_count": 111
        }
      ],
      "metadata": {
        "id": "RZsD9hsgrfv9",
        "outputId": "c0d97496-1f33-4d67-ecdf-d1b90e82e012"
      },
      "execution_count": null
    },
    {
      "cell_type": "code",
      "source": [
        "rng.to_period()"
      ],
      "outputs": [
        {
          "output_type": "execute_result",
          "data": {},
          "execution_count": 112
        }
      ],
      "metadata": {
        "id": "-_dUlYNKrfv9",
        "outputId": "a7f938ee-2f7a-4066-da28-90840438a625"
      },
      "execution_count": null
    },
    {
      "cell_type": "code",
      "source": [
        "rng.to_period('D')"
      ],
      "outputs": [
        {
          "output_type": "execute_result",
          "data": {},
          "execution_count": 113
        }
      ],
      "metadata": {
        "id": "SmAOsVQxrfv9",
        "outputId": "94ec26ad-b774-47a2-d63f-4463143ac0dd"
      },
      "execution_count": null
    },
    {
      "cell_type": "markdown",
      "source": [
        "####Bugggg"
      ],
      "metadata": {
        "id": "gpG_t8RUrfv-"
      }
    },
    {
      "cell_type": "code",
      "source": [
        "p"
      ],
      "outputs": [
        {
          "output_type": "execute_result",
          "data": {},
          "execution_count": 114
        }
      ],
      "metadata": {
        "id": "lLsDcThSrfv-",
        "outputId": "a6306f4b-1331-4928-e2e4-27ca0a104277"
      },
      "execution_count": null
    },
    {
      "cell_type": "code",
      "source": [
        "p.end_time"
      ],
      "outputs": [
        {
          "output_type": "execute_result",
          "data": {},
          "execution_count": 115
        }
      ],
      "metadata": {
        "id": "oEn9IKiUrfv-",
        "outputId": "c0626784-03ab-41c2-9f78-47b0656c4d0d"
      },
      "execution_count": null
    },
    {
      "cell_type": "code",
      "source": [
        "datetime(2005, 12, 31, 10, 0, 0) < p.end_time # WAT?!"
      ],
      "outputs": [
        {
          "output_type": "execute_result",
          "data": {},
          "execution_count": 116
        }
      ],
      "metadata": {
        "id": "FinUwHIIrfv-",
        "outputId": "33a0e5e7-c378-4638-8b5a-b61b510be7a8"
      },
      "execution_count": null
    },
    {
      "cell_type": "markdown",
      "source": [
        "Look for a 0.9.1 bugfix release next week"
      ],
      "metadata": {
        "id": "ewL2rR98rfv-"
      }
    },
    {
      "cell_type": "code",
      "source": [],
      "outputs": [],
      "metadata": {
        "id": "LDQMn4oPrfv-"
      },
      "execution_count": null
    }
  ],
  "metadata": {
    "colab": {
      "provenance": []
    }
  }
}